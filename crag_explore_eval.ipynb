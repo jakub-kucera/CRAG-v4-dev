{
 "cells": [
  {
   "cell_type": "code",
   "id": "initial_id",
   "metadata": {
    "collapsed": true,
    "ExecuteTime": {
     "end_time": "2025-04-21T13:53:08.811957Z",
     "start_time": "2025-04-21T13:53:08.104142Z"
    }
   },
   "source": [
    "import os\n",
    "import json\n",
    "\n",
    "import pandas as pd\n",
    "\n",
    "import numpy as np\n",
    "import matplotlib.pyplot as plt"
   ],
   "outputs": [],
   "execution_count": 1
  },
  {
   "metadata": {
    "ExecuteTime": {
     "end_time": "2025-04-21T13:53:08.817265Z",
     "start_time": "2025-04-21T13:53:08.815441Z"
    }
   },
   "cell_type": "code",
   "source": "log_dir = \".crag_eva_data\"",
   "id": "b649ac2509575443",
   "outputs": [],
   "execution_count": 2
  },
  {
   "metadata": {
    "ExecuteTime": {
     "end_time": "2025-04-21T13:53:08.930186Z",
     "start_time": "2025-04-21T13:53:08.928055Z"
    }
   },
   "cell_type": "code",
   "source": "results = []",
   "id": "d5a30b1517cbc051",
   "outputs": [],
   "execution_count": 3
  },
  {
   "metadata": {
    "ExecuteTime": {
     "end_time": "2025-04-21T13:53:08.976362Z",
     "start_time": "2025-04-21T13:53:08.957917Z"
    }
   },
   "cell_type": "code",
   "source": [
    "for eval_file in os.listdir(log_dir):\n",
    "    print(eval_file)\n",
    "    method = eval_file.split(\".json\")[0].split(\"_\")[-1]\n",
    "    # if \"lm31\" in eval_file and \"lm31_j30\" not in method:\n",
    "    if \"lm31\" in eval_file and \"lm31_j30\" not in eval_file:\n",
    "        print(f\"skipping {eval_file}\")\n",
    "        continue\n",
    "    model = \"llama_3.1\" if \"lm31\" in eval_file else \"llama_3.0\"\n",
    "    print(method)\n",
    "    print(model)\n",
    "    with open(os.path.join(log_dir, eval_file)) as f:\n",
    "        contents = json.load(f)\n",
    "        print(contents['evaluation_results'])\n",
    "        results.append(dict(**contents['evaluation_results'], model=model, method=method))\n",
    "    # break"
   ],
   "id": "c32f593f1c727739",
   "outputs": [
    {
     "name": "stdout",
     "output_type": "stream",
     "text": [
      "evaluation_full_2025-04-06_12-21-40_lm31_j30_kg.json\n",
      "kg\n",
      "llama_3.1\n",
      "{'score': 0.05691056910569103, 'accuracy': 0.24611973392461198, 'hallucination': 0.18920916481892092, 'missing': 0.5646711012564671, 'n_miss': 1528, 'n_correct': 666, 'n_hallucination': 512, 'total': 2706}\n",
      "evaluation_full_2025-03-27_11-07-29_kg.json\n",
      "kg\n",
      "llama_3.0\n",
      "{'score': 0.0003695491500370629, 'accuracy': 0.26348854397634885, 'hallucination': 0.2631189948263119, 'missing': 0.47339246119733924, 'n_miss': 1281, 'n_correct': 713, 'n_hallucination': 712, 'total': 2706}\n",
      "evaluation_full_2025-03-29_19-45-30_lm31_kg.json\n",
      "skipping evaluation_full_2025-03-29_19-45-30_lm31_kg.json\n",
      "evaluation_full_2025-03-27_15-50-13_rag.json\n",
      "rag\n",
      "llama_3.0\n",
      "{'score': -0.0177383592017738, 'accuracy': 0.2557280118255728, 'hallucination': 0.2734663710273466, 'missing': 0.4708056171470806, 'n_miss': 1274, 'n_correct': 692, 'n_hallucination': 740, 'total': 2706}\n",
      "evaluation_full_2025-03-29_19-15-11_lm31_rag.json\n",
      "skipping evaluation_full_2025-03-29_19-15-11_lm31_rag.json\n",
      "evaluation_full_2025-04-06_12-01-40_lm31_j30_rag.json\n",
      "rag\n",
      "llama_3.1\n",
      "{'score': 0.03843311160384322, 'accuracy': 0.24390243902439024, 'hallucination': 0.20546932742054694, 'missing': 0.5506282335550629, 'n_miss': 1490, 'n_correct': 660, 'n_hallucination': 556, 'total': 2706}\n",
      "evaluation_full_2025-04-06_11-45-47_lm31_j30_zeroshot.json\n",
      "zeroshot\n",
      "llama_3.1\n",
      "{'score': 0.04286770140428686, 'accuracy': 0.17812269031781228, 'hallucination': 0.1352549889135255, 'missing': 0.6866223207686623, 'n_miss': 1858, 'n_correct': 482, 'n_hallucination': 366, 'total': 2706}\n",
      "evaluation_full_2025-03-29_18-52-05_lm31_zeroshot.json\n",
      "skipping evaluation_full_2025-03-29_18-52-05_lm31_zeroshot.json\n",
      "evaluation_full_2025-03-27_16-15-35_zeroshot.json\n",
      "zeroshot\n",
      "llama_3.0\n",
      "{'score': -0.14634146341463417, 'accuracy': 0.28307464892830747, 'hallucination': 0.42941611234294164, 'missing': 0.28750923872875095, 'n_miss': 778, 'n_correct': 766, 'n_hallucination': 1162, 'total': 2706}\n"
     ]
    }
   ],
   "execution_count": 4
  },
  {
   "metadata": {
    "ExecuteTime": {
     "end_time": "2025-04-21T13:53:08.993625Z",
     "start_time": "2025-04-21T13:53:08.988886Z"
    }
   },
   "cell_type": "code",
   "source": "results",
   "id": "5c1df024113e869c",
   "outputs": [
    {
     "data": {
      "text/plain": [
       "[{'score': 0.05691056910569103,\n",
       "  'accuracy': 0.24611973392461198,\n",
       "  'hallucination': 0.18920916481892092,\n",
       "  'missing': 0.5646711012564671,\n",
       "  'n_miss': 1528,\n",
       "  'n_correct': 666,\n",
       "  'n_hallucination': 512,\n",
       "  'total': 2706,\n",
       "  'model': 'llama_3.1',\n",
       "  'method': 'kg'},\n",
       " {'score': 0.0003695491500370629,\n",
       "  'accuracy': 0.26348854397634885,\n",
       "  'hallucination': 0.2631189948263119,\n",
       "  'missing': 0.47339246119733924,\n",
       "  'n_miss': 1281,\n",
       "  'n_correct': 713,\n",
       "  'n_hallucination': 712,\n",
       "  'total': 2706,\n",
       "  'model': 'llama_3.0',\n",
       "  'method': 'kg'},\n",
       " {'score': -0.0177383592017738,\n",
       "  'accuracy': 0.2557280118255728,\n",
       "  'hallucination': 0.2734663710273466,\n",
       "  'missing': 0.4708056171470806,\n",
       "  'n_miss': 1274,\n",
       "  'n_correct': 692,\n",
       "  'n_hallucination': 740,\n",
       "  'total': 2706,\n",
       "  'model': 'llama_3.0',\n",
       "  'method': 'rag'},\n",
       " {'score': 0.03843311160384322,\n",
       "  'accuracy': 0.24390243902439024,\n",
       "  'hallucination': 0.20546932742054694,\n",
       "  'missing': 0.5506282335550629,\n",
       "  'n_miss': 1490,\n",
       "  'n_correct': 660,\n",
       "  'n_hallucination': 556,\n",
       "  'total': 2706,\n",
       "  'model': 'llama_3.1',\n",
       "  'method': 'rag'},\n",
       " {'score': 0.04286770140428686,\n",
       "  'accuracy': 0.17812269031781228,\n",
       "  'hallucination': 0.1352549889135255,\n",
       "  'missing': 0.6866223207686623,\n",
       "  'n_miss': 1858,\n",
       "  'n_correct': 482,\n",
       "  'n_hallucination': 366,\n",
       "  'total': 2706,\n",
       "  'model': 'llama_3.1',\n",
       "  'method': 'zeroshot'},\n",
       " {'score': -0.14634146341463417,\n",
       "  'accuracy': 0.28307464892830747,\n",
       "  'hallucination': 0.42941611234294164,\n",
       "  'missing': 0.28750923872875095,\n",
       "  'n_miss': 778,\n",
       "  'n_correct': 766,\n",
       "  'n_hallucination': 1162,\n",
       "  'total': 2706,\n",
       "  'model': 'llama_3.0',\n",
       "  'method': 'zeroshot'}]"
      ]
     },
     "execution_count": 5,
     "metadata": {},
     "output_type": "execute_result"
    }
   ],
   "execution_count": 5
  },
  {
   "metadata": {
    "ExecuteTime": {
     "end_time": "2025-04-21T13:53:09.014895Z",
     "start_time": "2025-04-21T13:53:09.011386Z"
    }
   },
   "cell_type": "code",
   "source": "df = pd.DataFrame.from_records(results)",
   "id": "8d32d7abe6345870",
   "outputs": [],
   "execution_count": 6
  },
  {
   "metadata": {
    "ExecuteTime": {
     "end_time": "2025-04-21T13:53:09.037306Z",
     "start_time": "2025-04-21T13:53:09.030055Z"
    }
   },
   "cell_type": "code",
   "source": "df",
   "id": "32cb2f717d69ec1f",
   "outputs": [
    {
     "data": {
      "text/plain": [
       "      score  accuracy  hallucination   missing  n_miss  n_correct  \\\n",
       "0  0.056911  0.246120       0.189209  0.564671    1528        666   \n",
       "1  0.000370  0.263489       0.263119  0.473392    1281        713   \n",
       "2 -0.017738  0.255728       0.273466  0.470806    1274        692   \n",
       "3  0.038433  0.243902       0.205469  0.550628    1490        660   \n",
       "4  0.042868  0.178123       0.135255  0.686622    1858        482   \n",
       "5 -0.146341  0.283075       0.429416  0.287509     778        766   \n",
       "\n",
       "   n_hallucination  total      model    method  \n",
       "0              512   2706  llama_3.1        kg  \n",
       "1              712   2706  llama_3.0        kg  \n",
       "2              740   2706  llama_3.0       rag  \n",
       "3              556   2706  llama_3.1       rag  \n",
       "4              366   2706  llama_3.1  zeroshot  \n",
       "5             1162   2706  llama_3.0  zeroshot  "
      ],
      "text/html": [
       "<div>\n",
       "<style scoped>\n",
       "    .dataframe tbody tr th:only-of-type {\n",
       "        vertical-align: middle;\n",
       "    }\n",
       "\n",
       "    .dataframe tbody tr th {\n",
       "        vertical-align: top;\n",
       "    }\n",
       "\n",
       "    .dataframe thead th {\n",
       "        text-align: right;\n",
       "    }\n",
       "</style>\n",
       "<table border=\"1\" class=\"dataframe\">\n",
       "  <thead>\n",
       "    <tr style=\"text-align: right;\">\n",
       "      <th></th>\n",
       "      <th>score</th>\n",
       "      <th>accuracy</th>\n",
       "      <th>hallucination</th>\n",
       "      <th>missing</th>\n",
       "      <th>n_miss</th>\n",
       "      <th>n_correct</th>\n",
       "      <th>n_hallucination</th>\n",
       "      <th>total</th>\n",
       "      <th>model</th>\n",
       "      <th>method</th>\n",
       "    </tr>\n",
       "  </thead>\n",
       "  <tbody>\n",
       "    <tr>\n",
       "      <th>0</th>\n",
       "      <td>0.056911</td>\n",
       "      <td>0.246120</td>\n",
       "      <td>0.189209</td>\n",
       "      <td>0.564671</td>\n",
       "      <td>1528</td>\n",
       "      <td>666</td>\n",
       "      <td>512</td>\n",
       "      <td>2706</td>\n",
       "      <td>llama_3.1</td>\n",
       "      <td>kg</td>\n",
       "    </tr>\n",
       "    <tr>\n",
       "      <th>1</th>\n",
       "      <td>0.000370</td>\n",
       "      <td>0.263489</td>\n",
       "      <td>0.263119</td>\n",
       "      <td>0.473392</td>\n",
       "      <td>1281</td>\n",
       "      <td>713</td>\n",
       "      <td>712</td>\n",
       "      <td>2706</td>\n",
       "      <td>llama_3.0</td>\n",
       "      <td>kg</td>\n",
       "    </tr>\n",
       "    <tr>\n",
       "      <th>2</th>\n",
       "      <td>-0.017738</td>\n",
       "      <td>0.255728</td>\n",
       "      <td>0.273466</td>\n",
       "      <td>0.470806</td>\n",
       "      <td>1274</td>\n",
       "      <td>692</td>\n",
       "      <td>740</td>\n",
       "      <td>2706</td>\n",
       "      <td>llama_3.0</td>\n",
       "      <td>rag</td>\n",
       "    </tr>\n",
       "    <tr>\n",
       "      <th>3</th>\n",
       "      <td>0.038433</td>\n",
       "      <td>0.243902</td>\n",
       "      <td>0.205469</td>\n",
       "      <td>0.550628</td>\n",
       "      <td>1490</td>\n",
       "      <td>660</td>\n",
       "      <td>556</td>\n",
       "      <td>2706</td>\n",
       "      <td>llama_3.1</td>\n",
       "      <td>rag</td>\n",
       "    </tr>\n",
       "    <tr>\n",
       "      <th>4</th>\n",
       "      <td>0.042868</td>\n",
       "      <td>0.178123</td>\n",
       "      <td>0.135255</td>\n",
       "      <td>0.686622</td>\n",
       "      <td>1858</td>\n",
       "      <td>482</td>\n",
       "      <td>366</td>\n",
       "      <td>2706</td>\n",
       "      <td>llama_3.1</td>\n",
       "      <td>zeroshot</td>\n",
       "    </tr>\n",
       "    <tr>\n",
       "      <th>5</th>\n",
       "      <td>-0.146341</td>\n",
       "      <td>0.283075</td>\n",
       "      <td>0.429416</td>\n",
       "      <td>0.287509</td>\n",
       "      <td>778</td>\n",
       "      <td>766</td>\n",
       "      <td>1162</td>\n",
       "      <td>2706</td>\n",
       "      <td>llama_3.0</td>\n",
       "      <td>zeroshot</td>\n",
       "    </tr>\n",
       "  </tbody>\n",
       "</table>\n",
       "</div>"
      ]
     },
     "execution_count": 7,
     "metadata": {},
     "output_type": "execute_result"
    }
   ],
   "execution_count": 7
  },
  {
   "metadata": {
    "ExecuteTime": {
     "end_time": "2025-04-23T14:29:51.958742Z",
     "start_time": "2025-04-23T14:29:51.956334Z"
    }
   },
   "cell_type": "code",
   "source": [
    "method_name_map = {\n",
    "    'zeroshot': 'No Retrieval',\n",
    "    'rag': 'Vector Retrieval',\n",
    "    'kg': 'Knowledge Graph',\n",
    "}"
   ],
   "id": "7c63354ac31735c3",
   "outputs": [],
   "execution_count": 15
  },
  {
   "metadata": {
    "ExecuteTime": {
     "end_time": "2025-04-23T14:58:27.377926Z",
     "start_time": "2025-04-23T14:58:27.372861Z"
    }
   },
   "cell_type": "code",
   "source": [
    "model_name_map = {\n",
    "    'llama_3.0': 'Llama 3.0',\n",
    "    'llama_3.1': 'Llama 3.1',\n",
    "}"
   ],
   "id": "1014326c0d2b9c7b",
   "outputs": [],
   "execution_count": 20
  },
  {
   "metadata": {
    "ExecuteTime": {
     "end_time": "2025-04-26T10:09:22.403637Z",
     "start_time": "2025-04-26T10:09:22.278611Z"
    }
   },
   "cell_type": "code",
   "source": [
    "# df\n",
    "# metric_name = \"llm_judge_matcher_accuracy\"\n",
    "# metric_name = \"accuracy\"\n",
    "# metric_pretty = \"Accuracy\"\n",
    "# metric_name = \"missing\"\n",
    "# metric_pretty = \"Missing ratio\"\n",
    "# metric_name = \"hallucination\"\n",
    "# metric_pretty = \"Hallucination ratio\"\n",
    "metric_name = \"score\"\n",
    "metric_pretty = \"Combined Score\"\n",
    "# for dataset in results:\n",
    "\n",
    "\n",
    "methods = df[\"method\"].unique()\n",
    "methods = sorted(methods, reverse=True)\n",
    "models = df[\"model\"].unique()\n",
    "models = sorted(models)\n",
    "models = models\n",
    "\n",
    "x = np.arange(len(methods))  # Position of each method on the x-axis\n",
    "width = 0.15  # Width of each bar\n",
    "\n",
    "fig, ax = plt.subplots(figsize=(10, 6))\n",
    "\n",
    "# Create bars for each model within each method group\n",
    "for i, model in enumerate(models):\n",
    "    model_df = df[df[\"model\"] == model]\n",
    "    f1_scores = [model_df[model_df[\"method\"] == method][metric_name].values[0] if method in model_df[\"method\"].values else 0 for method in methods]\n",
    "    model_pretty = model_name_map.get(model, model)\n",
    "    ax.bar(x + i * width, f1_scores, width, label=model_pretty)\n",
    "\n",
    "# Formatting\n",
    "ax.set_xlabel(\"Method\")\n",
    "ax.set_ylabel(f\"{metric_pretty}\")\n",
    "ax.set_title(f\"Comparison of Methods on CRAG Dataset with {metric_pretty} Metric\")\n",
    "ax.set_xticks(x + width * (len(models) / 2 - 0.5))\n",
    "pretty_methods = [method_name_map.get(method, method) for method in methods]\n",
    "ax.set_xticklabels(pretty_methods, rotation=45)  # Rotate labels for better readability\n",
    "ax.legend(title=\"Generator Model\", loc='lower right')\n",
    "\n",
    "plt.savefig(f\"~/Documents/diplomka/2025BP_Kucera_RAG_LLM/images/generated_images/crag_eva_{metric_name}.pdf\", bbox_inches='tight')\n",
    "plt.show()\n",
    "\n",
    "\n",
    "    # TODO separate chunking methods use index_path / corpus_path"
   ],
   "id": "50947d593b08fa45",
   "outputs": [
    {
     "data": {
      "text/plain": [
       "<Figure size 1000x600 with 1 Axes>"
      ],
      "image/png": "[encoded data removed]"
     },
     "metadata": {},
     "output_type": "display_data"
    }
   ],
   "execution_count": 33
  },
  {
   "metadata": {
    "ExecuteTime": {
     "end_time": "2025-04-21T13:53:09.181045Z",
     "start_time": "2025-04-21T13:53:09.178487Z"
    }
   },
   "cell_type": "code",
   "source": "",
   "id": "82ee98158f24898a",
   "outputs": [],
   "execution_count": null
  }
 ],
 "metadata": {
  "kernelspec": {
   "display_name": "Python 3",
   "language": "python",
   "name": "python3"
  },
  "language_info": {
   "codemirror_mode": {
    "name": "ipython",
    "version": 2
   },
   "file_extension": ".py",
   "mimetype": "text/x-python",
   "name": "python",
   "nbconvert_exporter": "python",
   "pygments_lexer": "ipython2",
   "version": "2.7.6"
  }
 },
 "nbformat": 4,
 "nbformat_minor": 5
}
